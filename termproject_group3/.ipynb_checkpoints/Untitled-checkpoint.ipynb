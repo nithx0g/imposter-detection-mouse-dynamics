{
 "cells": [
  {
   "cell_type": "code",
   "execution_count": null,
   "metadata": {},
   "outputs": [],
   "source": []
  },
  {
   "cell_type": "code",
   "execution_count": 21,
   "metadata": {},
   "outputs": [],
   "source": [
    "from sklearn.neighbors import KNeighborsClassifier\n",
    "from mlxtend.feature_selection import SequentialFeatureSelector as SFS\n",
    "import numpy as np\n",
    "from tqdm import tqdm\n",
    "import extractor\n",
    "import os\n",
    "from sklearn import svm"
   ]
  },
  {
   "cell_type": "code",
   "execution_count": 22,
   "metadata": {},
   "outputs": [],
   "source": [
    "authenticated_users = ['JarupulaBaba','nitheesh','Bharath','Asrith','Pavan']"
   ]
  },
  {
   "cell_type": "code",
   "execution_count": 23,
   "metadata": {},
   "outputs": [],
   "source": [
    "X_auth=[]"
   ]
  },
  {
   "cell_type": "code",
   "execution_count": 31,
   "metadata": {},
   "outputs": [
    {
     "name": "stdout",
     "output_type": "stream",
     "text": [
      "extracting features for user JarupulaBaba\n",
      "present\n",
      "extracting features for user nitheesh\n",
      "present\n",
      "extracting features for user Bharath\n",
      "present\n",
      "extracting features for user Asrith\n",
      "present\n",
      "extracting features for user Pavan\n",
      "present\n"
     ]
    }
   ],
   "source": [
    "for user in authenticated_users:\n",
    "    print(\"extracting features for user \"+user)\n",
    "    if (os.path.exists(user+'.npy')):\n",
    "        print(\"present\")\n",
    "        X_auth.append(np.load(user+'.npy'))\n",
    "    else:\n",
    "        folder = \"data/authenticated/\"+user+\"/\"\n",
    "        X=extractor.features(len(os.listdir(folder)),folder)\n",
    "        np.save(user,X)\n",
    "        X_auth.append(X)"
   ]
  },
  {
   "cell_type": "code",
   "execution_count": 39,
   "metadata": {},
   "outputs": [],
   "source": [
    "#for imposter users\n",
    "X_imposter=extractor.features(len(os.listdir(\"data/imposter/\")),\"data/imposter/\")\n",
    "y_imposter=np.ones(len(X_imposter))\n",
    "#np.save(\"imposter\",X_imposter)"
   ]
  },
  {
   "cell_type": "code",
   "execution_count": 40,
   "metadata": {},
   "outputs": [],
   "source": [
    "X_auth_final=np.concatenate((X_auth[0],X_auth[1],X_auth[2],X_auth[3],X_auth[4]),axis=0)\n",
    "y_auth_final=np.zeros(len(X_auth_final))"
   ]
  },
  {
   "cell_type": "code",
   "execution_count": null,
   "metadata": {},
   "outputs": [],
   "source": [
    "X_train=np.concatenate((X_auth_final[:int(X_auth_final.shape[0]*0.8)],X_imposter[:int(X_imposter.shape[0]*0.8)]))"
   ]
  },
  {
   "cell_type": "code",
   "execution_count": null,
   "metadata": {},
   "outputs": [],
   "source": []
  }
 ],
 "metadata": {
  "kernelspec": {
   "display_name": "Python 3",
   "language": "python",
   "name": "python3"
  },
  "language_info": {
   "codemirror_mode": {
    "name": "ipython",
    "version": 3
   },
   "file_extension": ".py",
   "mimetype": "text/x-python",
   "name": "python",
   "nbconvert_exporter": "python",
   "pygments_lexer": "ipython3",
   "version": "3.8.5"
  }
 },
 "nbformat": 4,
 "nbformat_minor": 4
}
