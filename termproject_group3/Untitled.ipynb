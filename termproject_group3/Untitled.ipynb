{
 "cells": [
  {
   "cell_type": "code",
   "execution_count": null,
   "metadata": {},
   "outputs": [],
   "source": []
  },
  {
   "cell_type": "code",
   "execution_count": 1,
   "metadata": {},
   "outputs": [],
   "source": [
    "from sklearn.neighbors import KNeighborsClassifier\n",
    "from sklearn.naive_bayes import GaussianNB\n",
    "from mlxtend.feature_selection import SequentialFeatureSelector as SFS\n",
    "from sklearn.model_selection import KFold\n",
    "from sklearn.metrics import accuracy_score\n",
    "import numpy as np\n",
    "from tqdm import tqdm\n",
    "import extractor\n",
    "import os\n",
    "from sklearn import svm"
   ]
  },
  {
   "cell_type": "code",
   "execution_count": 2,
   "metadata": {},
   "outputs": [],
   "source": [
    "authenticated_users = ['JarupulaBaba','nitheesh','Bharath','Asrith','Pavan']"
   ]
  },
  {
   "cell_type": "code",
   "execution_count": 3,
   "metadata": {},
   "outputs": [],
   "source": [
    "X_auth=[]"
   ]
  },
  {
   "cell_type": "code",
   "execution_count": 4,
   "metadata": {},
   "outputs": [
    {
     "name": "stdout",
     "output_type": "stream",
     "text": [
      "extracting features for user JarupulaBaba\n",
      "present\n",
      "extracting features for user nitheesh\n",
      "present\n",
      "extracting features for user Bharath\n",
      "present\n",
      "extracting features for user Asrith\n",
      "present\n",
      "extracting features for user Pavan\n",
      "present\n"
     ]
    }
   ],
   "source": [
    "for user in authenticated_users:\n",
    "    print(\"extracting features for user \"+user)\n",
    "    if (os.path.exists(user+'.npy')):\n",
    "        print(\"present\")\n",
    "        X_auth.append(np.load(user+'.npy'))\n",
    "    else:\n",
    "        folder = \"data/authenticated/\"+user+\"/\"\n",
    "        X=extractor.features(len(os.listdir(folder)),folder)\n",
    "        np.save(user,X)\n",
    "        X_auth.append(X)"
   ]
  },
  {
   "cell_type": "code",
   "execution_count": 9,
   "metadata": {},
   "outputs": [],
   "source": [
    "#for imposter users\n",
    "if (os.path.exists('imposter.npy')):\n",
    "    X_imposter=np.load('imposter.npy')\n",
    "else:\n",
    "    X_imposter=extractor.features(len(os.listdir(\"data/imposter/\")),\"data/imposter/\")\n",
    "    np.save(\"imposter\",X_imposter)\n",
    "#y_imposter.shape\n",
    "y_imposter=np.ones(len(X_imposter))"
   ]
  },
  {
   "cell_type": "code",
   "execution_count": 10,
   "metadata": {},
   "outputs": [
    {
     "name": "stdout",
     "output_type": "stream",
     "text": [
      "(19139, 63)\n",
      "(19139,)\n"
     ]
    }
   ],
   "source": [
    "X_auth_final=np.concatenate((X_auth[0],X_auth[1],X_auth[2],X_auth[3],X_auth[4]),axis=0)\n",
    "y_auth_final=np.zeros(len(X_auth_final))\n",
    "print(X_auth_final.shape)\n",
    "print(y_auth_final.shape)"
   ]
  },
  {
   "cell_type": "code",
   "execution_count": 11,
   "metadata": {},
   "outputs": [],
   "source": [
    "#X_train=np.concatenate((X_auth_final[:int(X_auth_final.shape[0]*0.8)],X_imposter[:int(X_imposter.shape[0]*0.8)]),axis=0)\n",
    "#y_train=np.concatenate((y_auth_final[:int(X_auth_final.shape[0]*0.8)],y_imposter[:int(X_imposter.shape[0]*0.8)]),axis=0)\n",
    "#X_test=np.concatenate((X_auth_final[int(X_auth_final.shape[0]*0.8):],X_imposter[int(X_imposter.shape[0]*0.8):]),axis=0)\n",
    "#y_test=np.concatenate((y_auth_final[int(X_auth_final.shape[0]*0.8):],y_imposter[int(y_imposter.shape[0]*0.8):]),axis=0)"
   ]
  },
  {
   "cell_type": "code",
   "execution_count": 12,
   "metadata": {},
   "outputs": [
    {
     "name": "stdout",
     "output_type": "stream",
     "text": [
      "(35693, 63)\n",
      "(35693,)\n"
     ]
    }
   ],
   "source": [
    "X=np.concatenate((X_auth_final,X_imposter),axis=0)\n",
    "y=np.concatenate((y_auth_final,y_imposter),axis=0)\n",
    "print(X.shape)\n",
    "print(y.shape)"
   ]
  },
  {
   "cell_type": "code",
   "execution_count": 13,
   "metadata": {},
   "outputs": [
    {
     "data": {
      "text/plain": [
       "16554"
      ]
     },
     "execution_count": 13,
     "metadata": {},
     "output_type": "execute_result"
    }
   ],
   "source": [
    "y[y==1].size"
   ]
  },
  {
   "cell_type": "code",
   "execution_count": 14,
   "metadata": {},
   "outputs": [],
   "source": [
    "knn = KNeighborsClassifier(n_neighbors=63)\n",
    "sfs1 = SFS(knn,\n",
    "           k_features=5,\n",
    "           forward=True,\n",
    "           floating=False,\n",
    "           scoring='accuracy',\n",
    "           cv=4)"
   ]
  },
  {
   "cell_type": "code",
   "execution_count": null,
   "metadata": {},
   "outputs": [],
   "source": []
  },
  {
   "cell_type": "code",
   "execution_count": null,
   "metadata": {},
   "outputs": [],
   "source": [
    "sfs1 = sfs1.fit(X, y)\n",
    "X = X[:,sfs1.k_feature_idx_]"
   ]
  },
  {
   "cell_type": "code",
   "execution_count": null,
   "metadata": {},
   "outputs": [],
   "source": [
    "X.shape"
   ]
  },
  {
   "cell_type": "code",
   "execution_count": null,
   "metadata": {},
   "outputs": [],
   "source": [
    "kf = KFold(n_splits=10,shuffle=True)\n",
    "accuracy_model=[]\n",
    "for train_index, test_index in kf.split(X):\n",
    "    X_train, X_test = X[train_index], X[test_index]\n",
    "    y_train, y_test = y[train_index], y[test_index]\n",
    "    #print(X_train.shape)\n",
    "    #print(y_train.shape)\n",
    "    #print(X_test.shape)\n",
    "    #print(y_test.shape)\n",
    "    #print(y_test.size)\n",
    "    clf = GaussianNB()\n",
    "    clf.fit(X_train,y_train)\n",
    "    accuracy_model.append(accuracy_score(y_test, clf.predict(X_test), normalize=True)*100)\n",
    "    print(accuracy_score(y_test, clf.predict(X_test), normalize=True)*100)"
   ]
  },
  {
   "cell_type": "code",
   "execution_count": null,
   "metadata": {},
   "outputs": [],
   "source": []
  },
  {
   "cell_type": "code",
   "execution_count": null,
   "metadata": {},
   "outputs": [],
   "source": []
  }
 ],
 "metadata": {
  "kernelspec": {
   "display_name": "Python 3",
   "language": "python",
   "name": "python3"
  },
  "language_info": {
   "codemirror_mode": {
    "name": "ipython",
    "version": 3
   },
   "file_extension": ".py",
   "mimetype": "text/x-python",
   "name": "python",
   "nbconvert_exporter": "python",
   "pygments_lexer": "ipython3",
   "version": "3.8.5"
  }
 },
 "nbformat": 4,
 "nbformat_minor": 4
}
